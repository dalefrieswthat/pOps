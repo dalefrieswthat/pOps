{
 "cells": [
  {
   "cell_type": "code",
   "execution_count": null,
   "metadata": {
    "vscode": {
     "languageId": "plaintext"
    }
   },
   "outputs": [],
   "source": []
  },
  {
   "cell_type": "code",
   "execution_count": null,
   "metadata": {
    "vscode": {
     "languageId": "plaintext"
    }
   },
   "outputs": [],
   "source": [
    "# Add this new cell to your notebook\n",
    "import requests\n",
    "\n",
    "def test_sentiment(text):\n",
    "    \"\"\"Test the sentiment analysis endpoint\"\"\"\n",
    "    url = f\"http://localhost:8001/predict/{text.replace(' ', '%20')}\"\n",
    "    response = requests.get(url)\n",
    "    return response.json()\n",
    "\n",
    "# Interactive testing widget\n",
    "text_input = widgets.Text(\n",
    "    value='This is amazing!',\n",
    "    description='Text:',\n",
    "    style={'description_width': 'initial'}\n",
    ")\n",
    "\n",
    "def on_test_click(b):\n",
    "    result = test_sentiment(text_input.value)\n",
    "    print(f\"Input: {result['text']}\")\n",
    "    print(f\"Sentiment: {result['sentiment']}\")\n",
    "    print(f\"Confidence: {result['confidence']:.4f}\")\n",
    "\n",
    "test_button = widgets.Button(description=\"Test Sentiment\")\n",
    "test_button.on_click(on_test_click)\n",
    "\n",
    "# Display the interactive widgets\n",
    "display(text_input)\n",
    "display(test_button)"
   ]
  }
 ],
 "metadata": {
  "language_info": {
   "name": "python"
  }
 },
 "nbformat": 4,
 "nbformat_minor": 2
}
