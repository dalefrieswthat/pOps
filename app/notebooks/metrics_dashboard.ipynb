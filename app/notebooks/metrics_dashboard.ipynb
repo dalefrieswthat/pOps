{
 "cells": [
  {
   "cell_type": "code",
   "execution_count": 2,
   "metadata": {},
   "outputs": [
    {
     "ename": "ModuleNotFoundError",
     "evalue": "No module named 'prometheus_api_client'",
     "output_type": "error",
     "traceback": [
      "\u001b[31m---------------------------------------------------------------------------\u001b[39m",
      "\u001b[31mModuleNotFoundError\u001b[39m                       Traceback (most recent call last)",
      "\u001b[36mCell\u001b[39m\u001b[36m \u001b[39m\u001b[32mIn[2]\u001b[39m\u001b[32m, line 3\u001b[39m\n\u001b[32m      1\u001b[39m \u001b[38;5;66;03m# CELL 1 - RUN THIS FIRST!\u001b[39;00m\n\u001b[32m      2\u001b[39m \u001b[38;5;28;01mimport\u001b[39;00m\u001b[38;5;250m \u001b[39m\u001b[34;01mpandas\u001b[39;00m\u001b[38;5;250m \u001b[39m\u001b[38;5;28;01mas\u001b[39;00m\u001b[38;5;250m \u001b[39m\u001b[34;01mpd\u001b[39;00m\n\u001b[32m----> \u001b[39m\u001b[32m3\u001b[39m \u001b[38;5;28;01mfrom\u001b[39;00m\u001b[38;5;250m \u001b[39m\u001b[34;01mprometheus_api_client\u001b[39;00m\u001b[38;5;250m \u001b[39m\u001b[38;5;28;01mimport\u001b[39;00m PrometheusConnect\n\u001b[32m      4\u001b[39m \u001b[38;5;28;01mimport\u001b[39;00m\u001b[38;5;250m \u001b[39m\u001b[34;01mplotly\u001b[39;00m\u001b[34;01m.\u001b[39;00m\u001b[34;01mexpress\u001b[39;00m\u001b[38;5;250m \u001b[39m\u001b[38;5;28;01mas\u001b[39;00m\u001b[38;5;250m \u001b[39m\u001b[34;01mpx\u001b[39;00m\n\u001b[32m      5\u001b[39m \u001b[38;5;28;01mfrom\u001b[39;00m\u001b[38;5;250m \u001b[39m\u001b[34;01mIPython\u001b[39;00m\u001b[34;01m.\u001b[39;00m\u001b[34;01mdisplay\u001b[39;00m\u001b[38;5;250m \u001b[39m\u001b[38;5;28;01mimport\u001b[39;00m display, clear_output\n",
      "\u001b[31mModuleNotFoundError\u001b[39m: No module named 'prometheus_api_client'"
     ]
    }
   ],
   "source": [
    "# CELL 1 - RUN THIS FIRST!\n",
    "import pandas as pd\n",
    "from prometheus_api_client import PrometheusConnect\n",
    "import plotly.express as px\n",
    "from IPython.display import display, clear_output\n",
    "import ipywidgets as widgets\n",
    "import time\n",
    "import requests\n",
    "\n",
    "# Verify imports worked\n",
    "print(\"Widgets type:\", type(widgets))"
   ]
  },
  {
   "cell_type": "code",
   "execution_count": 1,
   "metadata": {},
   "outputs": [
    {
     "ename": "NameError",
     "evalue": "name 'widgets' is not defined",
     "output_type": "error",
     "traceback": [
      "\u001b[31m---------------------------------------------------------------------------\u001b[39m",
      "\u001b[31mNameError\u001b[39m                                 Traceback (most recent call last)",
      "\u001b[36mCell\u001b[39m\u001b[36m \u001b[39m\u001b[32mIn[1]\u001b[39m\u001b[32m, line 11\u001b[39m\n\u001b[32m      8\u001b[39m     \u001b[38;5;28;01mreturn\u001b[39;00m response.json()\n\u001b[32m     10\u001b[39m \u001b[38;5;66;03m# Interactive testing widget\u001b[39;00m\n\u001b[32m---> \u001b[39m\u001b[32m11\u001b[39m text_input = \u001b[43mwidgets\u001b[49m.Text(\n\u001b[32m     12\u001b[39m     value=\u001b[33m'\u001b[39m\u001b[33mThis is amazing!\u001b[39m\u001b[33m'\u001b[39m,\n\u001b[32m     13\u001b[39m     description=\u001b[33m'\u001b[39m\u001b[33mText:\u001b[39m\u001b[33m'\u001b[39m,\n\u001b[32m     14\u001b[39m     style={\u001b[33m'\u001b[39m\u001b[33mdescription_width\u001b[39m\u001b[33m'\u001b[39m: \u001b[33m'\u001b[39m\u001b[33minitial\u001b[39m\u001b[33m'\u001b[39m}\n\u001b[32m     15\u001b[39m )\n\u001b[32m     17\u001b[39m \u001b[38;5;28;01mdef\u001b[39;00m\u001b[38;5;250m \u001b[39m\u001b[34mon_test_click\u001b[39m(b):\n\u001b[32m     18\u001b[39m     result = test_sentiment(text_input.value)\n",
      "\u001b[31mNameError\u001b[39m: name 'widgets' is not defined"
     ]
    }
   ],
   "source": [
    "# Add this new cell to your notebook\n",
    "import requests\n",
    "\n",
    "def test_sentiment(text):\n",
    "    \"\"\"Test the sentiment analysis endpoint\"\"\"\n",
    "    url = f\"http://localhost:8001/predict/{text.replace(' ', '%20')}\"\n",
    "    response = requests.get(url)\n",
    "    return response.json()\n",
    "\n",
    "# Interactive testing widget\n",
    "text_input = widgets.Text(\n",
    "    value='This is amazing!',\n",
    "    description='Text:',\n",
    "    style={'description_width': 'initial'}\n",
    ")\n",
    "\n",
    "def on_test_click(b):\n",
    "    result = test_sentiment(text_input.value)\n",
    "    print(f\"Input: {result['text']}\")\n",
    "    print(f\"Sentiment: {result['sentiment']}\")\n",
    "    print(f\"Confidence: {result['confidence']:.4f}\")\n",
    "\n",
    "test_button = widgets.Button(description=\"Test Sentiment\")\n",
    "test_button.on_click(on_test_click)\n",
    "\n",
    "# Display the interactive widgets\n",
    "display(text_input)\n",
    "display(test_button)"
   ]
  }
 ],
 "metadata": {
  "kernelspec": {
   "display_name": "venv",
   "language": "python",
   "name": "python3"
  },
  "language_info": {
   "codemirror_mode": {
    "name": "ipython",
    "version": 3
   },
   "file_extension": ".py",
   "mimetype": "text/x-python",
   "name": "python",
   "nbconvert_exporter": "python",
   "pygments_lexer": "ipython3",
   "version": "3.13.2"
  }
 },
 "nbformat": 4,
 "nbformat_minor": 2
}
